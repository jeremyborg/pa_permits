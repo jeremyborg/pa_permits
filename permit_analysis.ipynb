{
 "cells": [
  {
   "cell_type": "code",
   "execution_count": 11,
   "metadata": {},
   "outputs": [],
   "source": [
    "import gmaps\n",
    "import gmplot\n",
    "import pandas as pd\n",
    "\n",
    "gmaps.configure(api_key='<API_KEY>')"
   ]
  },
  {
   "cell_type": "code",
   "execution_count": 86,
   "metadata": {},
   "outputs": [],
   "source": [
    "permits = pd.read_csv('permits_2019.csv')\n",
    "permits.city = permits.city.str.strip()\n",
    "permits.loc[permits.city=='Belt Valletta', 'city'] = 'Valletta'\n",
    "permits.applicant = permits.applicant.str.replace('.','')"
   ]
  },
  {
   "cell_type": "code",
   "execution_count": 133,
   "metadata": {},
   "outputs": [
    {
     "data": {
      "text/plain": [
       "113     PA/00114/19\n",
       "189     PA/00190/19\n",
       "471     PA/00472/19\n",
       "614     PA/00615/19\n",
       "824     PA/00825/19\n",
       "884     PA/00885/19\n",
       "995     PA/00996/19\n",
       "1063    PA/01064/19\n",
       "1397    PA/01398/19\n",
       "1493    PA/01494/19\n",
       "2204    PA/02205/19\n",
       "2420    PA/02421/19\n",
       "2442    PA/02443/19\n",
       "2762    PA/02763/19\n",
       "2902    PA/02903/19\n",
       "2982    PA/02983/19\n",
       "3225    PA/03226/19\n",
       "3723    PA/03724/19\n",
       "3760    PA/03761/19\n",
       "4209    PA/04210/19\n",
       "4411    PA/04412/19\n",
       "4578    PA/04579/19\n",
       "4669    PA/04670/19\n",
       "4701    PA/04702/19\n",
       "4750    PA/04751/19\n",
       "4973    PA/04974/19\n",
       "Name: casenumber, dtype: object"
      ]
     },
     "execution_count": 133,
     "metadata": {},
     "output_type": "execute_result"
    }
   ],
   "source": [
    "permits[(permits.city=='Zejtun') & (permits.descriptionofworks.str.contains('garage'))].casenumber"
   ]
  },
  {
   "cell_type": "code",
   "execution_count": 136,
   "metadata": {},
   "outputs": [
    {
     "data": {
      "text/plain": [
       "Xaghra               28\n",
       "Qala                 17\n",
       "Zebbug (Gozo)        14\n",
       "Rabat (Gozo)         12\n",
       "Ghajnsielem          11\n",
       "Xewkija              10\n",
       "Gharb                10\n",
       "Nadur                10\n",
       "Kercem                7\n",
       "San Lawrenz           4\n",
       "Ghasri                4\n",
       "Sannat                4\n",
       "Mellieha              3\n",
       "Munxar                3\n",
       "Msida                 2\n",
       "Sliema                1\n",
       "Fontana               1\n",
       "San Pawl il-Bahar     1\n",
       "Zebbug                1\n",
       "Santa Venera          1\n",
       "Swieqi                1\n",
       "Paola                 1\n",
       "Naxxar                1\n",
       "Name: city, dtype: int64"
      ]
     },
     "execution_count": 136,
     "metadata": {},
     "output_type": "execute_result"
    }
   ],
   "source": [
    "permits[permits.architect=='Perit Alexander Bigeni'].city.value_counts()"
   ]
  },
  {
   "cell_type": "code",
   "execution_count": 118,
   "metadata": {
    "scrolled": true
   },
   "outputs": [
    {
     "data": {
      "application/vnd.jupyter.widget-view+json": {
       "model_id": "bc6777467de64d4cb1485ab63859de85",
       "version_major": 2,
       "version_minor": 0
      },
      "text/plain": [
       "Figure(layout=FigureLayout(height='420px'))"
      ]
     },
     "metadata": {},
     "output_type": "display_data"
    }
   ],
   "source": [
    "fig = gmaps.figure()\n",
    "fig.add_layer(gmaps.heatmap_layer(lat_long, point_radius=10, max_intensity=50))\n",
    "fig"
   ]
  }
 ],
 "metadata": {
  "kernelspec": {
   "display_name": "Python 3",
   "language": "python",
   "name": "python3"
  },
  "language_info": {
   "codemirror_mode": {
    "name": "ipython",
    "version": 3
   },
   "file_extension": ".py",
   "mimetype": "text/x-python",
   "name": "python",
   "nbconvert_exporter": "python",
   "pygments_lexer": "ipython3",
   "version": "3.7.3"
  }
 },
 "nbformat": 4,
 "nbformat_minor": 2
}
