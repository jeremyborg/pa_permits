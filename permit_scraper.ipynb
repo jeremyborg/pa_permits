{
 "cells": [
  {
   "cell_type": "code",
   "execution_count": 157,
   "metadata": {},
   "outputs": [],
   "source": [
    "import sys\n",
    "import urllib3\n",
    "import pandas as pd\n",
    "from datetime import datetime\n",
    "from bs4 import BeautifulSoup\n",
    "from geopy.geocoders import Nominatim, OpenMapQuest\n",
    "\n",
    "req = urllib3.PoolManager()\n",
    "locator = Nominatim(user_agent='myGeocoder')\n",
    "urllib3.disable_warnings(urllib3.exceptions.InsecureRequestWarning)"
   ]
  },
  {
   "cell_type": "code",
   "execution_count": 253,
   "metadata": {},
   "outputs": [],
   "source": [
    "def get_permit_url(permit_no):\n",
    "    return f'https://www.pa.org.mt/pacasedetails?CaseType=PA/{permit_no:05d}/19'\n",
    "\n",
    "def format_date(date):\n",
    "    return datetime.strftime(datetime.strptime(date,'%d %B %Y'), '%Y-%m-%d')\n",
    "\n",
    "# Conver date fields to %Y-%m-%d format\n",
    "def update_date_fields(permit_details):\n",
    "    date_fields = [key for key in permit_details.keys() if 'date' in key]\n",
    "    for field in date_fields:\n",
    "        try:\n",
    "            permit_details[field] = format_date(permit_details[field])\n",
    "        except:\n",
    "            permit_details[field] = permit_details[field]\n",
    "    return permit_details\n",
    "\n",
    "def get_board_minutes_url(soup, permit_details):\n",
    "    permit_details['boardminutes'] = 'pa.org.mt/'+soup.find('img', {'alt':'Link to View Board Minutes'}).parent['href']\n",
    "\n",
    "def get_map_coordinates(permit):\n",
    "    site_address = permit['locationofdevelopment']\n",
    "    permit['road'] = site_address.split(',')[-2:-1][0]\n",
    "    permit['city'] = site_address.split(',')[-1:][0].strip()\n",
    "    try:\n",
    "        location = locator.geocode(permit['road'] + ' ' + permit['city'])\n",
    "        permit['lat'] = location.latitude\n",
    "        permit['long'] = location.longitude\n",
    "    except:\n",
    "        permit['lat'] = None\n",
    "        permit['long'] = None\n",
    "    return permit\n",
    "\n",
    "def get_permit_details(soup):\n",
    "    permit = {}\n",
    "    # Get all fields\n",
    "    labels = soup.find_all('td', {'class':'fieldLabel'})\n",
    "    values = soup.find_all('td', {'class':'fieldData'})\n",
    "    for i in range(0,len(labels)):\n",
    "        permit[labels[i].text.replace(':','').strip().replace(\" \", \"\").lower()] = values[i].text.strip()\n",
    "    if bool(permit):\n",
    "        if 'sitenoticeimage' in permit:\n",
    "            del permit['sitenoticeimage']\n",
    "\n",
    "        if 'boardminutes' in permit:\n",
    "            get_board_minutes_url(soup, permit)\n",
    "\n",
    "        # Parse address    \n",
    "        permit = get_map_coordinates(permit)\n",
    "\n",
    "        # Convert dates\n",
    "        permit = update_date_fields(permit)\n",
    "    \n",
    "    return permit"
   ]
  },
  {
   "cell_type": "code",
   "execution_count": 257,
   "metadata": {},
   "outputs": [
    {
     "name": "stdout",
     "output_type": "stream",
     "text": [
      "Scraping details of permit 05080/19"
     ]
    }
   ],
   "source": [
    "permits = []\n",
    "more_permits = True\n",
    "permit_no = 257\n",
    "url = get_permit_url(permit_no)\n",
    "res = req.request('GET', url)\n",
    "soup = BeautifulSoup(res.data, 'html.parser')\n",
    "\n",
    "while more_permits:\n",
    "    # Print current permit number    \n",
    "    sys.stdout.write(\"\\r\" + f'Scraping details of permit {permit_no:05d}/19')\n",
    "    sys.stdout.flush()\n",
    "    \n",
    "    permit_details = get_permit_details(soup)\n",
    "    permits.append(dict(permit_details))\n",
    "\n",
    "    permit_no += 1\n",
    "    url = get_permit_url(permit_no)\n",
    "    res = req.request('GET', url)\n",
    "    soup = BeautifulSoup(res.data, 'html.parser')\n",
    "    more_permits = not 'This Application Number does not exist' in soup.text"
   ]
  },
  {
   "cell_type": "code",
   "execution_count": 240,
   "metadata": {},
   "outputs": [],
   "source": [
    "upto_256 = pd.DataFrame(permits)"
   ]
  },
  {
   "cell_type": "code",
   "execution_count": 258,
   "metadata": {},
   "outputs": [],
   "source": [
    "above_256 = pd.DataFrame(permits)"
   ]
  },
  {
   "cell_type": "code",
   "execution_count": 263,
   "metadata": {},
   "outputs": [],
   "source": [
    "upto_256.to_csv('upto_256.csv', index=False)"
   ]
  },
  {
   "cell_type": "code",
   "execution_count": 264,
   "metadata": {},
   "outputs": [
    {
     "data": {
      "text/plain": [
       "Index(['appealreferencenumber', 'applicant', 'applicationtype', 'architect',\n",
       "       'boardminutes', 'casecategory', 'casenumber', 'casestatus', 'city',\n",
       "       'datepublishedinnewspapers', 'descriptionofworks', 'lat',\n",
       "       'locationofdevelopment', 'long', 'receptiondate',\n",
       "       'reconsiderationdecisionposteddate',\n",
       "       'reconsiderationnonexecutabledecisionposteddate', 'representation',\n",
       "       'representationexpirydate', 'road', 'targetdate', 'validationdate'],\n",
       "      dtype='object')"
      ]
     },
     "execution_count": 264,
     "metadata": {},
     "output_type": "execute_result"
    }
   ],
   "source": [
    "above_256.columns"
   ]
  },
  {
   "cell_type": "code",
   "execution_count": 265,
   "metadata": {},
   "outputs": [
    {
     "data": {
      "text/plain": [
       "Index(['appealreferencenumber', 'applicant', 'applicationtype', 'architect',\n",
       "       'boardminutes', 'casecategory', 'casenumber', 'casestatus', 'city',\n",
       "       'datepublishedinnewspapers', 'descriptionofworks', 'lat',\n",
       "       'locationofdevelopment', 'long', 'receptiondate',\n",
       "       'reconsiderationdecisionposteddate',\n",
       "       'reconsiderationnonexecutabledecisionposteddate',\n",
       "       'representationexpirydate', 'road', 'targetdate', 'validationdate'],\n",
       "      dtype='object')"
      ]
     },
     "execution_count": 265,
     "metadata": {},
     "output_type": "execute_result"
    }
   ],
   "source": [
    "upto_256.columns"
   ]
  },
  {
   "cell_type": "code",
   "execution_count": 274,
   "metadata": {},
   "outputs": [],
   "source": [
    "upto_256.append(above_256).to_csv('permits_2019.csv', index=False)"
   ]
  }
 ],
 "metadata": {
  "kernelspec": {
   "display_name": "Python 3",
   "language": "python",
   "name": "python3"
  },
  "language_info": {
   "codemirror_mode": {
    "name": "ipython",
    "version": 3
   },
   "file_extension": ".py",
   "mimetype": "text/x-python",
   "name": "python",
   "nbconvert_exporter": "python",
   "pygments_lexer": "ipython3",
   "version": "3.7.3"
  }
 },
 "nbformat": 4,
 "nbformat_minor": 2
}
